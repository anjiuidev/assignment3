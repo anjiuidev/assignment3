{
 "cells": [
  {
   "cell_type": "markdown",
   "metadata": {},
   "source": [
    "# Task 1"
   ]
  },
  {
   "cell_type": "markdown",
   "metadata": {},
   "source": [
    "<b>1.1. Write a function to compute 5/0 and use try/except to catch the exceptions.</b>"
   ]
  },
  {
   "cell_type": "code",
   "execution_count": 4,
   "metadata": {},
   "outputs": [
    {
     "name": "stdout",
     "output_type": "stream",
     "text": [
      "Error: 5 is not didisible by zero.\n"
     ]
    }
   ],
   "source": [
    "def divison_by_zero():\n",
    "    return 5/0\n",
    "\n",
    "try:\n",
    "    divison_by_zero()\n",
    "except:\n",
    "    print(\"Error: 5 is not didisible by zero.\")\n",
    "    "
   ]
  },
  {
   "cell_type": "markdown",
   "metadata": {},
   "source": [
    "<b>1.2. Implement a Python program to generate all sentences where subject is in [\"Americans\",\n",
    "\"Indians\"] and verb is in [\"Play\", \"watch\"] and the object is in [\"Baseball\",\"cricket\"].</b>\n",
    "<pre>Hint: Subject,Verb and Object should be declared in the program as shown below.\n",
    "subjects=[\"Americans \",\"Indians\"]\n",
    "verbs=[\"play\",\"watch\"]\n",
    "objects=[\"Baseball\",\"Cricket\"]\n",
    "\n",
    "<b>Output should come as below:</b>\n",
    "Americans play Baseball.\n",
    "Americans play Cricket.\n",
    "Americans watch Baseball.\n",
    "Americans watch Cricket.\n",
    "Indians play Baseball.\n",
    "Indians play Cricket.\n",
    "Indians watch Baseball.\n",
    "Indians watch Cricket.\n",
    "</pre>"
   ]
  },
  {
   "cell_type": "code",
   "execution_count": 7,
   "metadata": {},
   "outputs": [
    {
     "name": "stdout",
     "output_type": "stream",
     "text": [
      "Americans play Baseball.\n",
      "Americans play Cricket.\n",
      "Americans watch Baseball.\n",
      "Americans watch Cricket.\n",
      "Indians play Baseball.\n",
      "Indians play Cricket.\n",
      "Indians watch Baseball.\n",
      "Indians watch Cricket.\n"
     ]
    }
   ],
   "source": [
    "subjects=[\"Americans\",\"Indians\"]\n",
    "verbs=[\"play\",\"watch\"]\n",
    "objects=[\"Baseball\",\"Cricket\"]\n",
    "\n",
    "def make_sentense(subjects, verbs, objects):\n",
    "    return [(sub + \" \" + vb + \" \" + obj + \".\") for sub in subjects for vb in verbs for obj in objects]\n",
    "\n",
    "sentenses = make_sentense(subjects, verbs, objects)\n",
    "\n",
    "for sen in sentenses:\n",
    "    print(sen)"
   ]
  },
  {
   "cell_type": "markdown",
   "metadata": {},
   "source": [
    "# Task 2"
   ]
  },
  {
   "cell_type": "markdown",
   "metadata": {},
   "source": [
    "<b>2.1 Write a function so that the columns of the output matrix are powers of the input vector.\n",
    "The order of the powers is determined by the increasing boolean argument. Specifically, when\n",
    "increasing is False, the i-th output column is the input vector raised element-wise to the power\n",
    "of N - i - 1.</b> <br>\n",
    "<b>HINT:</b> Such a matrix with a geometric progression in each row is named for AlexandreTheophile Vandermonde.\n"
   ]
  },
  {
   "cell_type": "code",
   "execution_count": 54,
   "metadata": {},
   "outputs": [
    {
     "name": "stdout",
     "output_type": "stream",
     "text": [
      "[[  1   1   1   1   1]\n",
      " [  1   2   4   8  16]\n",
      " [  1   3   9  27  81]\n",
      " [  1   4  16  64 256]\n",
      " [  1   5  25 125 625]]\n",
      "------------------------------------------------\n",
      "[[   1    1    1    1    1    1]\n",
      " [   1    2    4    8   16   32]\n",
      " [   1    3    9   27   81  243]\n",
      " [   1    4   16   64  256 1024]\n",
      " [   1    5   25  125  625 3125]]\n",
      "------------------------------------------------\n",
      "[[  1   1   1   1   1]\n",
      " [ 16   8   4   2   1]\n",
      " [ 81  27   9   3   1]\n",
      " [256  64  16   4   1]\n",
      " [625 125  25   5   1]]\n",
      "------------------------------------------------\n",
      "[[    1     1     1     1     1     1     1     1]\n",
      " [  128    64    32    16     8     4     2     1]\n",
      " [ 2187   729   243    81    27     9     3     1]\n",
      " [16384  4096  1024   256    64    16     4     1]\n",
      " [78125 15625  3125   625   125    25     5     1]]\n",
      "------------------------------------------------\n",
      "[[ 1  1  1]\n",
      " [ 4  2  1]\n",
      " [ 9  3  1]\n",
      " [16  4  1]\n",
      " [25  5  1]]\n",
      "------------------------------------------------\n",
      "[[ 1  1  1]\n",
      " [ 1  2  4]\n",
      " [ 1  3  9]\n",
      " [ 1  4 16]\n",
      " [ 1  5 25]]\n",
      "------------------------------------------------\n"
     ]
    }
   ],
   "source": [
    "import numpy as np\n",
    "\n",
    "def generate_matrix(vector,n=0,increasing=True):\n",
    "    # make the n value as the size of the vector\n",
    "    n = (n==0) and vector.size or n\n",
    "        \n",
    "    if increasing:\n",
    "        output = np.array([x**i for x in vector for i in range(n)]).reshape(vector.size,n)\n",
    "    elif not increasing:\n",
    "        output = np.array([x**(n-1-i) for x in vector for i in range(n)]).reshape(vector.size,n)\n",
    "    \n",
    "    return output\n",
    "\n",
    "input_vector = np.array([1,2,3,4,5])\n",
    "print(generate_matrix(input_vector))\n",
    "print(\"------------------------------------------------\")\n",
    "print(generate_matrix(input_vector, 6))\n",
    "print(\"------------------------------------------------\")\n",
    "print(generate_matrix(input_vector, increasing=False))\n",
    "print(\"------------------------------------------------\")\n",
    "print(generate_matrix(input_vector, 8, increasing=False))\n",
    "print(\"------------------------------------------------\")\n",
    "print(generate_matrix(input_vector, 3, increasing=False))\n",
    "print(\"------------------------------------------------\")\n",
    "print(generate_matrix(input_vector, 3))\n",
    "print(\"------------------------------------------------\")"
   ]
  },
  {
   "cell_type": "code",
   "execution_count": null,
   "metadata": {},
   "outputs": [],
   "source": []
  }
 ],
 "metadata": {
  "kernelspec": {
   "display_name": "Python 3",
   "language": "python",
   "name": "python3"
  },
  "language_info": {
   "codemirror_mode": {
    "name": "ipython",
    "version": 3
   },
   "file_extension": ".py",
   "mimetype": "text/x-python",
   "name": "python",
   "nbconvert_exporter": "python",
   "pygments_lexer": "ipython3",
   "version": "3.7.3"
  }
 },
 "nbformat": 4,
 "nbformat_minor": 2
}
